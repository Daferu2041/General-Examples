{
 "cells": [
  {
   "cell_type": "code",
   "execution_count": 1,
   "metadata": {
    "ExecuteTime": {
     "end_time": "2020-02-28T21:32:01.127243Z",
     "start_time": "2020-02-28T21:31:58.908184Z"
    },
    "scrolled": true
   },
   "outputs": [
    {
     "name": "stdout",
     "output_type": "stream",
     "text": [
      "altair      3.2.0\n",
      "six         1.12.0\n",
      "pandas      0.24.2\n",
      "jsonschema  3.0.1\n",
      "statsmodels 0.9.0\n",
      "json        2.0.9\n",
      "matplotlib  3.0.3\n",
      "numpy       1.16.2\n",
      "\n"
     ]
    }
   ],
   "source": [
    "%matplotlib inline\n",
    "from altair import *\n",
    "import numpy as np\n",
    "import pandas as pd\n",
    "import statsmodels.api as sm\n",
    "import statsmodels.formula.api as smf\n",
    "import matplotlib.pyplot as plt\n",
    "\n",
    "import pandas as pd\n",
    "import numpy as np\n",
    "\n",
    "%load_ext watermark\n",
    "%watermark -iv"
   ]
  },
  {
   "cell_type": "code",
   "execution_count": 2,
   "metadata": {
    "ExecuteTime": {
     "end_time": "2020-02-28T21:32:01.186893Z",
     "start_time": "2020-02-28T21:32:01.128485Z"
    }
   },
   "outputs": [
    {
     "data": {
      "text/html": [
       "<div>\n",
       "<style scoped>\n",
       "    .dataframe tbody tr th:only-of-type {\n",
       "        vertical-align: middle;\n",
       "    }\n",
       "\n",
       "    .dataframe tbody tr th {\n",
       "        vertical-align: top;\n",
       "    }\n",
       "\n",
       "    .dataframe thead th {\n",
       "        text-align: right;\n",
       "    }\n",
       "</style>\n",
       "<table border=\"1\" class=\"dataframe\">\n",
       "  <thead>\n",
       "    <tr style=\"text-align: right;\">\n",
       "      <th></th>\n",
       "      <th>Make</th>\n",
       "      <th>Model</th>\n",
       "      <th>Model2</th>\n",
       "      <th>Year</th>\n",
       "      <th>Price</th>\n",
       "      <th>Odometer</th>\n",
       "      <th>Color</th>\n",
       "      <th>Link</th>\n",
       "      <th>DataDate</th>\n",
       "    </tr>\n",
       "  </thead>\n",
       "  <tbody>\n",
       "    <tr>\n",
       "      <th>43</th>\n",
       "      <td>Toyota</td>\n",
       "      <td>Sienna</td>\n",
       "      <td>XLE</td>\n",
       "      <td>2017</td>\n",
       "      <td>26000</td>\n",
       "      <td>28248.0</td>\n",
       "      <td>Black</td>\n",
       "      <td>https://www.autotrader.com/cars-for-sale/vehic...</td>\n",
       "      <td>2019-02-28</td>\n",
       "    </tr>\n",
       "  </tbody>\n",
       "</table>\n",
       "</div>"
      ],
      "text/plain": [
       "      Make   Model Model2  Year  Price  Odometer  Color  \\\n",
       "43  Toyota  Sienna    XLE  2017  26000   28248.0  Black   \n",
       "\n",
       "                                                 Link   DataDate  \n",
       "43  https://www.autotrader.com/cars-for-sale/vehic... 2019-02-28  "
      ]
     },
     "execution_count": 2,
     "metadata": {},
     "output_type": "execute_result"
    }
   ],
   "source": [
    "df = pd.read_excel('2020-02-28-Car Data.xlsx')\n",
    "df.tail(1)"
   ]
  },
  {
   "cell_type": "code",
   "execution_count": 3,
   "metadata": {
    "ExecuteTime": {
     "end_time": "2020-02-28T21:32:01.272104Z",
     "start_time": "2020-02-28T21:32:01.188786Z"
    }
   },
   "outputs": [
    {
     "data": {
      "text/html": [
       "<table class=\"simpletable\">\n",
       "<caption>OLS Regression Results</caption>\n",
       "<tr>\n",
       "  <th>Dep. Variable:</th>          <td>Price</td>      <th>  R-squared:         </th> <td>   0.862</td>\n",
       "</tr>\n",
       "<tr>\n",
       "  <th>Model:</th>                   <td>OLS</td>       <th>  Adj. R-squared:    </th> <td>   0.811</td>\n",
       "</tr>\n",
       "<tr>\n",
       "  <th>Method:</th>             <td>Least Squares</td>  <th>  F-statistic:       </th> <td>   16.85</td>\n",
       "</tr>\n",
       "<tr>\n",
       "  <th>Date:</th>             <td>Fri, 28 Feb 2020</td> <th>  Prob (F-statistic):</th> <td>3.86e-09</td>\n",
       "</tr>\n",
       "<tr>\n",
       "  <th>Time:</th>                 <td>16:32:01</td>     <th>  Log-Likelihood:    </th> <td> -364.68</td>\n",
       "</tr>\n",
       "<tr>\n",
       "  <th>No. Observations:</th>      <td>    38</td>      <th>  AIC:               </th> <td>   751.4</td>\n",
       "</tr>\n",
       "<tr>\n",
       "  <th>Df Residuals:</th>          <td>    27</td>      <th>  BIC:               </th> <td>   769.4</td>\n",
       "</tr>\n",
       "<tr>\n",
       "  <th>Df Model:</th>              <td>    10</td>      <th>                     </th>     <td> </td>   \n",
       "</tr>\n",
       "<tr>\n",
       "  <th>Covariance Type:</th>      <td>nonrobust</td>    <th>                     </th>     <td> </td>   \n",
       "</tr>\n",
       "</table>\n",
       "<table class=\"simpletable\">\n",
       "<tr>\n",
       "          <td></td>            <th>coef</th>     <th>std err</th>      <th>t</th>      <th>P>|t|</th>  <th>[0.025</th>    <th>0.975]</th>  \n",
       "</tr>\n",
       "<tr>\n",
       "  <th>Intercept</th>        <td>-3.684e+06</td> <td> 4.71e+05</td> <td>   -7.824</td> <td> 0.000</td> <td>-4.65e+06</td> <td>-2.72e+06</td>\n",
       "</tr>\n",
       "<tr>\n",
       "  <th>C(Model2)[T.XLE]</th> <td> 2042.3789</td> <td> 2037.181</td> <td>    1.003</td> <td> 0.325</td> <td>-2137.571</td> <td> 6222.329</td>\n",
       "</tr>\n",
       "<tr>\n",
       "  <th>Color[T.Blue]</th>    <td>-1730.4675</td> <td> 2773.522</td> <td>   -0.624</td> <td> 0.538</td> <td>-7421.264</td> <td> 3960.329</td>\n",
       "</tr>\n",
       "<tr>\n",
       "  <th>Color[T.Creme]</th>   <td>-1537.7341</td> <td> 3578.792</td> <td>   -0.430</td> <td> 0.671</td> <td>-8880.808</td> <td> 5805.340</td>\n",
       "</tr>\n",
       "<tr>\n",
       "  <th>Color[T.Gold]</th>    <td> 3334.5952</td> <td> 3774.850</td> <td>    0.883</td> <td> 0.385</td> <td>-4410.757</td> <td> 1.11e+04</td>\n",
       "</tr>\n",
       "<tr>\n",
       "  <th>Color[T.Grey]</th>    <td> -727.7449</td> <td> 2620.978</td> <td>   -0.278</td> <td> 0.783</td> <td>-6105.547</td> <td> 4650.057</td>\n",
       "</tr>\n",
       "<tr>\n",
       "  <th>Color[T.Maroon]</th>  <td> 1206.8288</td> <td> 4052.360</td> <td>    0.298</td> <td> 0.768</td> <td>-7107.928</td> <td> 9521.586</td>\n",
       "</tr>\n",
       "<tr>\n",
       "  <th>Color[T.Red]</th>     <td>-3362.1840</td> <td> 4689.870</td> <td>   -0.717</td> <td> 0.480</td> <td> -1.3e+04</td> <td> 6260.635</td>\n",
       "</tr>\n",
       "<tr>\n",
       "  <th>Color[T.White]</th>   <td>-2563.1328</td> <td> 2519.172</td> <td>   -1.017</td> <td> 0.318</td> <td>-7732.046</td> <td> 2605.781</td>\n",
       "</tr>\n",
       "<tr>\n",
       "  <th>Year</th>             <td> 1838.4827</td> <td>  233.876</td> <td>    7.861</td> <td> 0.000</td> <td> 1358.609</td> <td> 2318.356</td>\n",
       "</tr>\n",
       "<tr>\n",
       "  <th>Odometer</th>         <td>   -0.0064</td> <td>    0.165</td> <td>   -0.039</td> <td> 0.969</td> <td>   -0.344</td> <td>    0.331</td>\n",
       "</tr>\n",
       "</table>\n",
       "<table class=\"simpletable\">\n",
       "<tr>\n",
       "  <th>Omnibus:</th>       <td> 1.017</td> <th>  Durbin-Watson:     </th> <td>   2.214</td>\n",
       "</tr>\n",
       "<tr>\n",
       "  <th>Prob(Omnibus):</th> <td> 0.601</td> <th>  Jarque-Bera (JB):  </th> <td>   0.917</td>\n",
       "</tr>\n",
       "<tr>\n",
       "  <th>Skew:</th>          <td> 0.154</td> <th>  Prob(JB):          </th> <td>   0.632</td>\n",
       "</tr>\n",
       "<tr>\n",
       "  <th>Kurtosis:</th>      <td> 2.304</td> <th>  Cond. No.          </th> <td>3.16e+06</td>\n",
       "</tr>\n",
       "</table><br/><br/>Warnings:<br/>[1] Standard Errors assume that the covariance matrix of the errors is correctly specified.<br/>[2] The condition number is large, 3.16e+06. This might indicate that there are<br/>strong multicollinearity or other numerical problems."
      ],
      "text/plain": [
       "<class 'statsmodels.iolib.summary.Summary'>\n",
       "\"\"\"\n",
       "                            OLS Regression Results                            \n",
       "==============================================================================\n",
       "Dep. Variable:                  Price   R-squared:                       0.862\n",
       "Model:                            OLS   Adj. R-squared:                  0.811\n",
       "Method:                 Least Squares   F-statistic:                     16.85\n",
       "Date:                Fri, 28 Feb 2020   Prob (F-statistic):           3.86e-09\n",
       "Time:                        16:32:01   Log-Likelihood:                -364.68\n",
       "No. Observations:                  38   AIC:                             751.4\n",
       "Df Residuals:                      27   BIC:                             769.4\n",
       "Df Model:                          10                                         \n",
       "Covariance Type:            nonrobust                                         \n",
       "====================================================================================\n",
       "                       coef    std err          t      P>|t|      [0.025      0.975]\n",
       "------------------------------------------------------------------------------------\n",
       "Intercept        -3.684e+06   4.71e+05     -7.824      0.000   -4.65e+06   -2.72e+06\n",
       "C(Model2)[T.XLE]  2042.3789   2037.181      1.003      0.325   -2137.571    6222.329\n",
       "Color[T.Blue]    -1730.4675   2773.522     -0.624      0.538   -7421.264    3960.329\n",
       "Color[T.Creme]   -1537.7341   3578.792     -0.430      0.671   -8880.808    5805.340\n",
       "Color[T.Gold]     3334.5952   3774.850      0.883      0.385   -4410.757    1.11e+04\n",
       "Color[T.Grey]     -727.7449   2620.978     -0.278      0.783   -6105.547    4650.057\n",
       "Color[T.Maroon]   1206.8288   4052.360      0.298      0.768   -7107.928    9521.586\n",
       "Color[T.Red]     -3362.1840   4689.870     -0.717      0.480    -1.3e+04    6260.635\n",
       "Color[T.White]   -2563.1328   2519.172     -1.017      0.318   -7732.046    2605.781\n",
       "Year              1838.4827    233.876      7.861      0.000    1358.609    2318.356\n",
       "Odometer            -0.0064      0.165     -0.039      0.969      -0.344       0.331\n",
       "==============================================================================\n",
       "Omnibus:                        1.017   Durbin-Watson:                   2.214\n",
       "Prob(Omnibus):                  0.601   Jarque-Bera (JB):                0.917\n",
       "Skew:                           0.154   Prob(JB):                        0.632\n",
       "Kurtosis:                       2.304   Cond. No.                     3.16e+06\n",
       "==============================================================================\n",
       "\n",
       "Warnings:\n",
       "[1] Standard Errors assume that the covariance matrix of the errors is correctly specified.\n",
       "[2] The condition number is large, 3.16e+06. This might indicate that there are\n",
       "strong multicollinearity or other numerical problems.\n",
       "\"\"\""
      ]
     },
     "execution_count": 3,
     "metadata": {},
     "output_type": "execute_result"
    }
   ],
   "source": [
    "model = smf.ols(formula='Price ~ C(Model2) + Year + Odometer + Color', data=df).fit()\n",
    "model.summary()"
   ]
  },
  {
   "cell_type": "code",
   "execution_count": 6,
   "metadata": {
    "ExecuteTime": {
     "end_time": "2020-02-28T21:33:22.042695Z",
     "start_time": "2020-02-28T21:33:22.037112Z"
    }
   },
   "outputs": [],
   "source": [
    "def model_predict(Model2, Year, Odometer, Color):\n",
    "    df_pred = pd.DataFrame(index=range(0,1), columns=df.columns).fillna(0)\n",
    "    df_pred.loc[0,'Model2'] = Model2\n",
    "    df_pred.loc[0,'Year'] = Year\n",
    "    df_pred.loc[0,'Odometer'] = Odometer\n",
    "    df_pred.loc[0,'Color'] = Color\n",
    "    prediction = model.predict(df_pred)\n",
    "    price_pred = prediction[0]\n",
    "    print('Predicted Price: ${:0,.0f}'.format(price_pred))"
   ]
  },
  {
   "cell_type": "code",
   "execution_count": null,
   "metadata": {},
   "outputs": [],
   "source": []
  },
  {
   "cell_type": "code",
   "execution_count": null,
   "metadata": {},
   "outputs": [],
   "source": []
  },
  {
   "cell_type": "code",
   "execution_count": 7,
   "metadata": {
    "ExecuteTime": {
     "end_time": "2020-02-28T21:33:22.940589Z",
     "start_time": "2020-02-28T21:33:22.923785Z"
    }
   },
   "outputs": [
    {
     "name": "stdout",
     "output_type": "stream",
     "text": [
      "Predicted Price: $20,622\n"
     ]
    }
   ],
   "source": [
    "# predictions\n",
    "Model2   = 'XLE'\n",
    "Year     = 2015\n",
    "Odometer = 87\n",
    "Color    = 'Blue'\n",
    "model_predict(Model2, Year, Odometer, Color)"
   ]
  },
  {
   "cell_type": "code",
   "execution_count": 8,
   "metadata": {
    "ExecuteTime": {
     "end_time": "2020-02-28T21:34:14.093729Z",
     "start_time": "2020-02-28T21:34:14.076777Z"
    }
   },
   "outputs": [
    {
     "name": "stdout",
     "output_type": "stream",
     "text": [
      "Predicted Price: $20,622\n"
     ]
    }
   ],
   "source": [
    "# Tansky https://www.tanskysawmilltoyota.com/used-Dublin-2015-Toyota-Sienna-XLE+7+Passenger-5TDDK3DC0FS095876\n",
    "# $19,828\n",
    "Model2   = 'XLE'\n",
    "Year     = 2015\n",
    "Odometer = 87\n",
    "Color    = 'Blue'\n",
    "model_predict(Model2, Year, Odometer, Color)"
   ]
  },
  {
   "cell_type": "code",
   "execution_count": 10,
   "metadata": {
    "ExecuteTime": {
     "end_time": "2020-02-28T21:36:41.817388Z",
     "start_time": "2020-02-28T21:36:41.800255Z"
    }
   },
   "outputs": [
    {
     "name": "stdout",
     "output_type": "stream",
     "text": [
      "Predicted Price: $24,492\n"
     ]
    }
   ],
   "source": [
    "# Tansky https://www.tanskysawmilltoyota.com/used-Dublin-2017-Toyota-Sienna-XLE+7+Passenger-5TDYZ3DC5HS857793\n",
    "# $25,478\n",
    "Model2   = 'XLE'\n",
    "Year     = 2017\n",
    "Odometer = 44\n",
    "Color    = 'Creme'\n",
    "model_predict(Model2, Year, Odometer, Color)"
   ]
  },
  {
   "cell_type": "code",
   "execution_count": 11,
   "metadata": {
    "ExecuteTime": {
     "end_time": "2020-02-28T21:37:16.074264Z",
     "start_time": "2020-02-28T21:37:16.057564Z"
    }
   },
   "outputs": [
    {
     "name": "stdout",
     "output_type": "stream",
     "text": [
      "Predicted Price: $27,868\n"
     ]
    }
   ],
   "source": [
    "# Tansky https://www.tanskysawmilltoyota.com/used-Dublin-2018-Toyota-Sienna-XLE+8+Passenger-5TDYZ3DC8JS934100\n",
    "# $25,968\n",
    "Model2   = 'XLE'\n",
    "Year     = 2018\n",
    "Odometer = 43\n",
    "Color    = 'Black'\n",
    "model_predict(Model2, Year, Odometer, Color)"
   ]
  },
  {
   "cell_type": "code",
   "execution_count": 12,
   "metadata": {
    "ExecuteTime": {
     "end_time": "2020-02-28T21:37:50.001330Z",
     "start_time": "2020-02-28T21:37:49.983851Z"
    }
   },
   "outputs": [
    {
     "name": "stdout",
     "output_type": "stream",
     "text": [
      "Predicted Price: $24,299\n"
     ]
    }
   ],
   "source": [
    "# Tansky https://www.tanskysawmilltoyota.com/used-Dublin-2017-Toyota-Sienna-XLE+7+Passenger-5TDYZ3DC8HS790378\n",
    "# $26,788\n",
    "Model2   = 'XLE'\n",
    "Year     = 2017\n",
    "Odometer = 30\n",
    "Color    = 'Blue'\n",
    "model_predict(Model2, Year, Odometer, Color)"
   ]
  },
  {
   "cell_type": "code",
   "execution_count": 13,
   "metadata": {
    "ExecuteTime": {
     "end_time": "2020-02-28T21:38:18.562160Z",
     "start_time": "2020-02-28T21:38:18.541589Z"
    }
   },
   "outputs": [
    {
     "name": "stdout",
     "output_type": "stream",
     "text": [
      "Predicted Price: $23,466\n"
     ]
    }
   ],
   "source": [
    "# Tansky https://www.tanskysawmilltoyota.com/used-Dublin-2017-Toyota-Sienna-XLE+7+Passenger-5TDYZ3DC4HS811095\n",
    "# $26,918\n",
    "Model2   = 'XLE'\n",
    "Year     = 2017\n",
    "Odometer = 30\n",
    "Color    = 'White'\n",
    "model_predict(Model2, Year, Odometer, Color)"
   ]
  },
  {
   "cell_type": "code",
   "execution_count": 14,
   "metadata": {
    "ExecuteTime": {
     "end_time": "2020-02-28T21:38:56.116005Z",
     "start_time": "2020-02-28T21:38:56.099078Z"
    }
   },
   "outputs": [
    {
     "name": "stdout",
     "output_type": "stream",
     "text": [
      "Predicted Price: $25,302\n"
     ]
    }
   ],
   "source": [
    "# Tansky https://www.tanskysawmilltoyota.com/used-Dublin-2017-Toyota-Sienna-XLE+Premium+8+Passenger-5TDYZ3DC1HS798337\n",
    "# $28,468\n",
    "Model2   = 'XLE'\n",
    "Year     = 2017\n",
    "Odometer = 27\n",
    "Color    = 'Grey'\n",
    "model_predict(Model2, Year, Odometer, Color)"
   ]
  },
  {
   "cell_type": "code",
   "execution_count": null,
   "metadata": {},
   "outputs": [],
   "source": []
  },
  {
   "cell_type": "code",
   "execution_count": null,
   "metadata": {},
   "outputs": [],
   "source": []
  },
  {
   "cell_type": "code",
   "execution_count": 9,
   "metadata": {
    "ExecuteTime": {
     "end_time": "2020-02-28T21:35:10.329737Z",
     "start_time": "2020-02-28T21:35:10.313052Z"
    }
   },
   "outputs": [
    {
     "name": "stdout",
     "output_type": "stream",
     "text": [
      "Predicted Price: $18,580\n"
     ]
    }
   ],
   "source": [
    "# Autotrader https://www.autotrader.com/cars-for-sale/vehicledetails.xhtml?listingId=545284654&zip=43085&referrer=%2Fcars-for-sale%2Fsearchresults.xhtml%3Fzip%3D43085%26city%3DColumbus%26startYear%3D1981%26incremental%3Dall%26endYear%3D2021%26modelCodeList%3DSIENNA%26makeCodeList%3DTOYOTA%26listingTypes%3DUSED%26sortBy%3Drelevance%26state%3DOH%26firstRecord%3D0%26marketExtension%3Dinclude%26searchRadius%3D200%26isNewSearch%3Dfalse&listingTypes=USED&startYear=1981&numRecords=25&firstRecord=0&endYear=2021&modelCodeList=SIENNA&makeCodeList=TOYOTA&searchRadius=200&makeCode1=TOYOTA&modelCode1=SIENNA&digitalRetail=true&clickType=listing\n",
    "# $18,555\n",
    "Model2   = 'LE'\n",
    "Year     = 2015\n",
    "Odometer = 40\n",
    "Color    = 'Blue'\n",
    "model_predict(Model2, Year, Odometer, Color)"
   ]
  },
  {
   "cell_type": "code",
   "execution_count": null,
   "metadata": {},
   "outputs": [],
   "source": []
  }
 ],
 "metadata": {
  "kernelspec": {
   "display_name": "Python 3",
   "language": "python",
   "name": "python3"
  },
  "language_info": {
   "codemirror_mode": {
    "name": "ipython",
    "version": 3
   },
   "file_extension": ".py",
   "mimetype": "text/x-python",
   "name": "python",
   "nbconvert_exporter": "python",
   "pygments_lexer": "ipython3",
   "version": "3.7.3"
  },
  "toc": {
   "base_numbering": 1,
   "nav_menu": {},
   "number_sections": true,
   "sideBar": true,
   "skip_h1_title": false,
   "title_cell": "Table of Contents",
   "title_sidebar": "Contents",
   "toc_cell": false,
   "toc_position": {},
   "toc_section_display": true,
   "toc_window_display": false
  }
 },
 "nbformat": 4,
 "nbformat_minor": 2
}
